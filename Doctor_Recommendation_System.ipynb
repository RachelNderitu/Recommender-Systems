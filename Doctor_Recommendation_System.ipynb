{
  "nbformat": 4,
  "nbformat_minor": 0,
  "metadata": {
    "colab": {
      "provenance": [],
      "include_colab_link": true
    },
    "kernelspec": {
      "name": "python3",
      "display_name": "Python 3"
    },
    "language_info": {
      "name": "python"
    }
  },
  "cells": [
    {
      "cell_type": "markdown",
      "metadata": {
        "id": "view-in-github",
        "colab_type": "text"
      },
      "source": [
        "<a href=\"https://colab.research.google.com/github/RachelNderitu/Recommender-Systems/blob/main/Doctor_Recommendation_System.ipynb\" target=\"_parent\"><img src=\"https://colab.research.google.com/assets/colab-badge.svg\" alt=\"Open In Colab\"/></a>"
      ]
    },
    {
      "cell_type": "code",
      "execution_count": 1,
      "metadata": {
        "id": "7kYYjSqBYkO0"
      },
      "outputs": [],
      "source": [
        "import pandas as pd\n",
        "import numpy as np\n",
        "from sklearn.feature_extraction.text import TfidfVectorizer\n",
        "from sklearn.metrics.pairwise import cosine_similarity\n",
        "from geopy.distance import geodesic\n",
        "import random"
      ]
    },
    {
      "cell_type": "markdown",
      "source": [
        "## **Step 1: Load Data**\n",
        "- The code loads two CSV files: one with doctor information(Doctors_practice_final.csv) and one with patient information (Patient_practice_final.csv).\n",
        "\n",
        "- These files are read into pandas DataFrames using pd.read_csv()."
      ],
      "metadata": {
        "id": "SRPgeXTU5cab"
      }
    },
    {
      "cell_type": "code",
      "source": [
        "# Load Data\n",
        "DOCTORS_FILE = \"/content/Doctors_Dataset.csv\"\n",
        "PATIENTS_FILE = \"/content/Patient_Dataset.csv\"\n",
        "\n",
        "doctors_df = pd.read_csv(DOCTORS_FILE, encoding=\"ISO-8859-1\")\n",
        "patients_df = pd.read_csv(PATIENTS_FILE, encoding=\"ISO-8859-1\")"
      ],
      "metadata": {
        "id": "jIuz6zE9Yo2z"
      },
      "execution_count": 4,
      "outputs": []
    },
    {
      "cell_type": "markdown",
      "source": [
        "## **Step 2: Clean and Transform Data**\n",
        "- The column names are standardized by stripping whitespace and converting them to lowercase.\n",
        "\n",
        "- Columns like \"specialization\", \"specialist_needed\", and \"speciality\" are renamed to a consistent name, \"specialist\".\n",
        "\n",
        "- A new column named \"content\" is created for both doctors and patients by combining their specialty and location. This column will be used for TF-IDF (Term Frequency-Inverse Document Frequency) vectorization.\n",
        "\n",
        "- Latitude and longitude columns are converted to numeric values, and any missing or invalid coordinate values are dropped."
      ],
      "metadata": {
        "id": "aGoTKz5c5l7v"
      }
    },
    {
      "cell_type": "code",
      "source": [
        "# Standardize column names\n",
        "doctors_df.columns = doctors_df.columns.str.strip().str.lower()\n",
        "patients_df.columns = patients_df.columns.str.strip().str.lower()\n",
        "\n",
        "# Rename columns for consistency\n",
        "column_mapping = {\"specialization\": \"specialist\", \"specialist_needed\": \"specialist\", \"speciality\": \"specialist\"}\n",
        "doctors_df.rename(columns={k: v for k, v in column_mapping.items() if k in doctors_df.columns}, inplace=True)\n",
        "patients_df.rename(columns={k: v for k, v in column_mapping.items() if k in patients_df.columns}, inplace=True)"
      ],
      "metadata": {
        "id": "0wpcWpIevFlu"
      },
      "execution_count": 5,
      "outputs": []
    },
    {
      "cell_type": "code",
      "source": [
        "# Create content column for TF-IDF\n",
        "doctors_df[\"content\"] = (doctors_df[\"specialist\"] + \" \" + doctors_df[\"location\"]).fillna(\"\")\n",
        "patients_df[\"content\"] = (patients_df[\"specialist\"] + \" \" + patients_df[\"location\"]).fillna(\"\")\n",
        "\n",
        "# Convert coordinates to numeric\n",
        "doctors_df[\"latitude\"] = pd.to_numeric(doctors_df[\"latitude\"], errors=\"coerce\")\n",
        "doctors_df[\"longitude\"] = pd.to_numeric(doctors_df[\"longitude\"], errors=\"coerce\")\n",
        "patients_df[\"latitude\"] = pd.to_numeric(patients_df[\"latitude\"], errors=\"coerce\")\n",
        "patients_df[\"longitude\"] = pd.to_numeric(patients_df[\"longitude\"], errors=\"coerce\")\n",
        "\n",
        "# Drop missing coordinate values\n",
        "doctors_df.dropna(subset=[\"latitude\", \"longitude\"], inplace=True)\n",
        "patients_df.dropna(subset=[\"latitude\", \"longitude\"], inplace=True)"
      ],
      "metadata": {
        "id": "n5TJ1iIfvJBF"
      },
      "execution_count": 6,
      "outputs": []
    },
    {
      "cell_type": "markdown",
      "source": [
        "## **Step 3: TF-IDF Vectorization**\n",
        "- The TfidfVectorizer from sklearn.feature_extraction.text is used to convert the \"content\" column (which contains text descriptions of the specialists and locations) into numerical representations (TF-IDF matrices).\n",
        "\n",
        "- A TF-IDF matrix for both doctors and patients is created, which will be used to calculate the similarity between doctors and patients based on their content."
      ],
      "metadata": {
        "id": "u6duF6RC5xaG"
      }
    },
    {
      "cell_type": "code",
      "source": [
        "# TF-IDF Vectorization\n",
        "vectorizer = TfidfVectorizer(stop_words=\"english\")\n",
        "doctor_tfidf_matrix = vectorizer.fit_transform(doctors_df[\"content\"])\n",
        "patient_tfidf_matrix = vectorizer.transform(patients_df[\"content\"])"
      ],
      "metadata": {
        "id": "6OGSdRVJvN0l"
      },
      "execution_count": 7,
      "outputs": []
    },
    {
      "cell_type": "markdown",
      "source": [
        "## **Step 4: Compute Cosine Similarity**\n",
        "- The cosine_similarity function from sklearn.metrics.pairwise is used to compute the cosine similarity between the patients' TF-IDF matrix and the doctors' TF-IDF matrix. This measures the similarity between patients' and doctors' specialties and locations."
      ],
      "metadata": {
        "id": "M_iaInlf6nxp"
      }
    },
    {
      "cell_type": "code",
      "source": [
        "# Compute Cosine Similarity\n",
        "similarity_matrix = cosine_similarity(patient_tfidf_matrix, doctor_tfidf_matrix)"
      ],
      "metadata": {
        "id": "BTlOu1jgvP1B"
      },
      "execution_count": 8,
      "outputs": []
    },
    {
      "cell_type": "markdown",
      "source": [
        "## **Step 5: Function to Find Nearest Doctors Based on Location and Specialization**\n",
        "- The function find_nearest_doctors finds the nearest doctors to a patient based on their geographical coordinates (latitude and longitude). It calculates the distance between the patient and each doctor using the geodesic function from the geopy library and returns the nearest doctors in terms of distance."
      ],
      "metadata": {
        "id": "sIeYHbWs6xwV"
      }
    },
    {
      "cell_type": "code",
      "source": [
        "# Function to find nearest doctors based on location and specialization\n",
        "def find_nearest_doctors(patient_lat, patient_lon, patient_specialist, num_nearby=5):\n",
        "    matching_doctors = doctors_df[doctors_df[\"specialist\"].str.lower() == patient_specialist.lower()].copy()\n",
        "    if matching_doctors.empty:\n",
        "        return []\n",
        "\n",
        "    matching_doctors[\"distance_km\"] = matching_doctors.apply(\n",
        "        lambda row: geodesic((patient_lat, patient_lon), (row[\"latitude\"], row[\"longitude\"])).km, axis=1\n",
        "    )\n",
        "\n",
        "    return matching_doctors.nsmallest(num_nearby, \"distance_km\")[[\"doctor id\", \"name\", \"specialist\", \"location\", \"distance_km\"]].to_dict(orient=\"records\")\n"
      ],
      "metadata": {
        "id": "VSivVRsEvR8H"
      },
      "execution_count": 9,
      "outputs": []
    },
    {
      "cell_type": "markdown",
      "source": [
        "## **Step 6 :Generate Recommendations**\n",
        "- For each patient, the code attempts to find doctors who match the patient's required specialty.\n",
        "\n",
        "- If matching doctors are found, it sorts them by their similarity score (from the cosine similarity matrix) and selects the top k most similar doctors.\n",
        "\n",
        "- If no doctors are found or if the matching doctors don't meet the criteria, the code falls back on finding the nearest doctors based on geographical distance and specialty."
      ],
      "metadata": {
        "id": "Ki9QGdNL62O0"
      }
    },
    {
      "cell_type": "code",
      "source": [
        "# Generate recommendations\n",
        "recommendations = {}\n",
        "\n",
        "top_k = 3\n",
        "for i, patient in patients_df.iterrows():\n",
        "    patient_id = patient[\"patient id\"]\n",
        "    patient_lat, patient_lon = patient[\"latitude\"], patient[\"longitude\"]\n",
        "    patient_specialist = patient[\"specialist\"].lower()\n",
        "\n",
        "    # Get doctors that match the specialist requirement\n",
        "    matching_doctors = doctors_df[doctors_df[\"specialist\"].str.lower() == patient_specialist]\n",
        "\n",
        "    if not matching_doctors.empty:\n",
        "        # Get similarity scores for matching doctors only\n",
        "        matching_indices = matching_doctors.index\n",
        "        matching_similarities = similarity_matrix[i, matching_indices]\n",
        "\n",
        "        # Get top-k matching doctors\n",
        "        top_indices = matching_indices[np.argsort(matching_similarities)[-top_k:][::-1]]\n",
        "        recommended_doctors = doctors_df.loc[top_indices, [\"doctor id\", \"name\", \"specialist\", \"location\", \"latitude\", \"longitude\"]].to_dict(orient=\"records\")\n",
        "    else:\n",
        "        recommended_doctors = []  # No matching specialists found in TF-IDF\n",
        "\n",
        "    # Calculate distance for each recommended doctor\n",
        "    for doctor in recommended_doctors:\n",
        "        doctor_lat, doctor_lon = doctor[\"latitude\"], doctor[\"longitude\"]\n",
        "        doctor[\"distance_km\"] = geodesic((patient_lat, patient_lon), (doctor_lat, doctor_lon)).km\n",
        "\n",
        "    # If no strong matches, use nearest specialist-based recommendations\n",
        "    if not recommended_doctors:\n",
        "        recommended_doctors = find_nearest_doctors(patient_lat, patient_lon, patient_specialist)\n",
        "\n",
        "    recommendations[patient_id] = recommended_doctors\n"
      ],
      "metadata": {
        "id": "vXUZs77GvVF5"
      },
      "execution_count": 10,
      "outputs": []
    },
    {
      "cell_type": "markdown",
      "source": [
        "## **Step 7: Display a sample**\n",
        "- A random sample of patient recommendations is displayed. For each patient, the recommended doctors' names, specialties, locations, and distances from the patient are printed."
      ],
      "metadata": {
        "id": "dD_UnvVZ6-Sd"
      }
    },
    {
      "cell_type": "code",
      "source": [
        "# Display sample recommendations\n",
        "sample_patient_ids = random.sample(list(recommendations.keys()), min(10, len(recommendations)))\n",
        "\n",
        "for patient_id in sample_patient_ids:\n",
        "    patient_info = patients_df.loc[patients_df[\"patient id\"] == patient_id, [\"specialist\", \"location\"]].values[0]\n",
        "    specialist_needed, patient_location = patient_info\n",
        "\n",
        "    print(f\"\\n📌 Patient ID: {patient_id} | Location: {patient_location} | Needs: {specialist_needed}\")\n",
        "    recommended_doctors = recommendations.get(patient_id, [])\n",
        "\n",
        "    if recommended_doctors:\n",
        "        for i, doctor in enumerate(recommended_doctors, 1):\n",
        "            print(f\"  {i}. Dr. {doctor['name']} ({doctor['specialist']}) - {doctor['location']} ({doctor['distance_km']:.1f} km away)\")\n",
        "    else:\n",
        "        print(\"❌ No suitable doctor found.\")"
      ],
      "metadata": {
        "colab": {
          "base_uri": "https://localhost:8080/"
        },
        "id": "AUyR3u8qvXWb",
        "outputId": "5de37f22-59f0-44b0-f7b1-56159dabe3d3"
      },
      "execution_count": 14,
      "outputs": [
        {
          "output_type": "stream",
          "name": "stdout",
          "text": [
            "\n",
            "📌 Patient ID: E499 | Location: Ngong | Needs: General Surgeon\n",
            "  1. Dr. Paul Kiptoo (General Surgeon) - Nairobi (19.0 km away)\n",
            "  2. Dr. Daniel Njoroge (General Surgeon) - Nairobi (19.0 km away)\n",
            "  3. Dr. Emily Njoroge (General Surgeon) - Nairobi (19.0 km away)\n",
            "\n",
            "📌 Patient ID: C555 | Location: Kericho | Needs: General Surgeon\n",
            "  1. Dr. Paul Kiptoo (General Surgeon) - Nairobi (198.6 km away)\n",
            "  2. Dr. Daniel Njoroge (General Surgeon) - Nairobi (198.6 km away)\n",
            "  3. Dr. Emily Njoroge (General Surgeon) - Nairobi (198.6 km away)\n",
            "\n",
            "📌 Patient ID: D437 | Location: Kajiado | Needs: Neurologist\n",
            "  1. Dr. Joseph Karanja (Neurologist) - Nairobi (62.8 km away)\n",
            "  2. Dr. Paul Akinyi (Neurologist) - Kisumu (296.2 km away)\n",
            "  3. Dr. John Ndegwa (Neurologist) - Mombasa (402.5 km away)\n",
            "\n",
            "📌 Patient ID: 9887 | Location: Athi River | Needs: Pulmonologist\n",
            "❌ No suitable doctor found.\n",
            "\n",
            "📌 Patient ID: 0E9B | Location: Mandera | Needs: Infectious Disease Specialist\n",
            "  1. Dr. James Mutua (Infectious Disease Specialist) - Nairobi (805.7 km away)\n",
            "  2. Dr. Alice Njiru (Infectious Disease Specialist) - Nairobi (805.7 km away)\n",
            "  3. Dr. Daniel Otieno (Infectious Disease Specialist) - Eldoret (825.3 km away)\n",
            "\n",
            "📌 Patient ID: 8420 | Location: Embu | Needs: Urologist\n",
            "❌ No suitable doctor found.\n",
            "\n",
            "📌 Patient ID: 00DB | Location: Limuru | Needs: Neurologist\n",
            "  1. Dr. Joseph Karanja (Neurologist) - Nairobi (27.8 km away)\n",
            "  2. Dr. Paul Akinyi (Neurologist) - Kisumu (237.4 km away)\n",
            "  3. Dr. John Ndegwa (Neurologist) - Mombasa (467.5 km away)\n",
            "\n",
            "📌 Patient ID: 4245 | Location: Nyahururu | Needs: Urologist\n",
            "  1. Dr. Peter Kimani (Ophthalmologist) - Nairobi (193.0 km away)\n",
            "  2. Dr. Rebecca Chepkoech (Ophthalmologist) - Nairobi (193.0 km away)\n",
            "  3. Dr. James Chepkoech (Ophthalmologist) - Nairobi (193.0 km away)\n",
            "\n",
            "📌 Patient ID: 9DBA | Location: Nanyuki | Needs: Neurologist\n",
            "  1. Dr. Joseph Karanja (Neurologist) - Nairobi (146.7 km away)\n",
            "  2. Dr. Paul Akinyi (Neurologist) - Kisumu (256.9 km away)\n",
            "  3. Dr. John Ndegwa (Neurologist) - Mombasa (534.1 km away)\n",
            "\n",
            "📌 Patient ID: 85B4 | Location: Kerugoya | Needs: Orthopedic Surgeon\n",
            "  1. Dr. Daniel Chepkoech (Orthopedic Surgeon) - Nairobi (101.3 km away)\n",
            "  2. Dr. Thomas Chepkoech (Orthopedic Surgeon) - Nairobi (101.3 km away)\n",
            "  3. Dr. Jane Akinyi (Orthopedic Surgeon) - Nairobi (101.3 km away)\n"
          ]
        }
      ]
    },
    {
      "cell_type": "markdown",
      "source": [
        "## **Step 8: Evaluate Recommender System**\n",
        "Various evaluation metrics are defined to assess the quality of the recommendation system:\n",
        "\n",
        "- Precision@k: Measures the proportion of relevant doctors (those who are actually specialists for the patient) among the top k recommended doctors.\n",
        "\n",
        "- Recall@k: Measures the proportion of relevant doctors that appear in the top k recommended doctors.\n",
        "\n",
        "- Mean Reciprocal Rank (MRR): Measures the rank at which the first relevant doctor is found.\n",
        "\n",
        "- Mean Average Precision (MAP): Measures the average precision for the top recommendations across all patients.\n",
        "\n",
        "- Geodesic Distance Error: Measures the average distance error between recommended doctors and the patient's actual location.\n",
        "\n",
        "The function weighted_recommendations combines the similarity score and distance to rank the recommendations based on a weighted score."
      ],
      "metadata": {
        "id": "oFk2RF6u7GDA"
      }
    },
    {
      "cell_type": "code",
      "source": [
        "from sklearn.metrics import average_precision_score\n",
        "import numpy as np\n",
        "\n",
        "def precision_at_k(recommendations, ground_truth, k=3):\n",
        "    precision_scores = []\n",
        "    for patient_id, recommended_doctors in recommendations.items():\n",
        "        relevant_doctors = set(ground_truth.get(patient_id, []))\n",
        "        recommended_set = set([doc[\"doctor id\"] for doc in recommended_doctors[:k]])\n",
        "        precision = len(recommended_set & relevant_doctors) / k\n",
        "        precision_scores.append(precision)\n",
        "    return np.mean(precision_scores)"
      ],
      "metadata": {
        "id": "frXtWVMdyoGY"
      },
      "execution_count": 15,
      "outputs": []
    },
    {
      "cell_type": "code",
      "source": [
        "def recall_at_k(recommendations, ground_truth, k=3):\n",
        "    recall_scores = []\n",
        "    for patient_id, recommended_doctors in recommendations.items():\n",
        "        relevant_doctors = set(ground_truth.get(patient_id, []))\n",
        "        if not relevant_doctors:\n",
        "            continue  # Skip if no relevant doctors available\n",
        "        recommended_set = set([doc[\"doctor id\"] for doc in recommended_doctors[:k]])\n",
        "        recall = len(recommended_set & relevant_doctors) / len(relevant_doctors)\n",
        "        recall_scores.append(recall)\n",
        "    return np.mean(recall_scores)"
      ],
      "metadata": {
        "id": "DTyg7upOyq8z"
      },
      "execution_count": 16,
      "outputs": []
    },
    {
      "cell_type": "code",
      "source": [
        "def mean_reciprocal_rank(recommendations, ground_truth):\n",
        "    reciprocal_ranks = []\n",
        "    for patient_id, recommended_doctors in recommendations.items():\n",
        "        relevant_doctors = set(ground_truth.get(patient_id, []))\n",
        "        for rank, doc in enumerate(recommended_doctors, start=1):\n",
        "            if doc[\"doctor id\"] in relevant_doctors:\n",
        "                reciprocal_ranks.append(1 / rank)\n",
        "                break\n",
        "    return np.mean(reciprocal_ranks) if reciprocal_ranks else 0"
      ],
      "metadata": {
        "id": "TnNlEIDSytmy"
      },
      "execution_count": 17,
      "outputs": []
    },
    {
      "cell_type": "code",
      "source": [
        "def mean_average_precision(recommendations, ground_truth):\n",
        "    average_precisions = []\n",
        "    for patient_id, recommended_doctors in recommendations.items():\n",
        "        relevant_doctors = set(ground_truth.get(patient_id, []))\n",
        "        y_true = [1 if doc[\"doctor id\"] in relevant_doctors else 0 for doc in recommended_doctors]\n",
        "        if sum(y_true) > 0:\n",
        "            average_precisions.append(average_precision_score(y_true, list(range(len(y_true), 0, -1))))\n",
        "    return np.mean(average_precisions) if average_precisions else 0"
      ],
      "metadata": {
        "id": "miflKjOSyvwz"
      },
      "execution_count": 18,
      "outputs": []
    },
    {
      "cell_type": "code",
      "source": [
        "def geodesic_distance_error(recommendations, patients_df):\n",
        "    distance_errors = []\n",
        "    for patient_id, recommended_doctors in recommendations.items():\n",
        "        patient = patients_df[patients_df[\"patient id\"] == patient_id].iloc[0]\n",
        "        patient_location = (patient[\"latitude\"], patient[\"longitude\"])\n",
        "        distances = [geodesic(patient_location, (doc[\"latitude\"], doc[\"longitude\"])).km for doc in recommended_doctors]\n",
        "        if distances:\n",
        "            distance_errors.append(np.mean(distances))\n",
        "    return np.mean(distance_errors) if distance_errors else 0"
      ],
      "metadata": {
        "id": "F_i9OiwmyyJB"
      },
      "execution_count": 19,
      "outputs": []
    },
    {
      "cell_type": "code",
      "source": [
        "def weighted_recommendations(recommendations, alpha=0.5):\n",
        "    for patient_id, recommended_doctors in recommendations.items():\n",
        "        for doc in recommended_doctors:\n",
        "            doc['score'] = alpha * (1 / (1 + doc['distance_km'])) + (1 - alpha) * doc.get('similarity', 0)\n",
        "        recommendations[patient_id] = sorted(recommended_doctors, key=lambda x: x['score'], reverse=True)\n"
      ],
      "metadata": {
        "id": "iYKqN0fhzUHc"
      },
      "execution_count": 20,
      "outputs": []
    },
    {
      "cell_type": "markdown",
      "source": [
        "## **Step 9:  Display Results**\n",
        "- The evaluation metrics are calculated and displayed, showing how well the recommendation system performs in terms of precision, recall, and other metrics."
      ],
      "metadata": {
        "id": "uX6GFTPp7TFE"
      }
    },
    {
      "cell_type": "code",
      "source": [
        "ground_truth = {\n",
        "    patient[\"patient id\"]: set(doctors_df[doctors_df[\"specialist\"] == patient[\"specialist\"]][\"doctor id\"])\n",
        "    for _, patient in patients_df.iterrows()\n",
        "}\n",
        "\n",
        "weighted_recommendations(recommendations, alpha=0.7)\n",
        "\n",
        "precision = precision_at_k(recommendations, ground_truth, k=3)\n",
        "recall = recall_at_k(recommendations, ground_truth, k=3)\n",
        "mrr = mean_reciprocal_rank(recommendations, ground_truth)\n",
        "map_score = mean_average_precision(recommendations, ground_truth)\n",
        "gde = geodesic_distance_error(recommendations, patients_df)\n",
        "\n",
        "print(f\"Precision@3: {precision:.4f}\")\n",
        "print(f\"Recall@3: {recall:.4f}\")\n",
        "print(f\"MRR: {mrr:.4f}\")\n",
        "print(f\"MAP: {map_score:.4f}\")\n",
        "print(f\"Geodesic Distance Error: {gde:.2f} km\")\n"
      ],
      "metadata": {
        "colab": {
          "base_uri": "https://localhost:8080/"
        },
        "id": "yjbwMrdzy0YW",
        "outputId": "d648a926-6c2d-4e9f-9646-7351c50220d8"
      },
      "execution_count": 21,
      "outputs": [
        {
          "output_type": "stream",
          "name": "stdout",
          "text": [
            "Precision@3: 0.6523\n",
            "Recall@3: 0.2159\n",
            "MRR: 1.0000\n",
            "MAP: 1.0000\n",
            "Geodesic Distance Error: 229.72 km\n"
          ]
        }
      ]
    },
    {
      "cell_type": "markdown",
      "source": [
        "## **Step 10: Display Popup Notification**\n",
        "- A JavaScript alert is triggered to show a popup notification to the user using IPython's Javascript class. This is typically used in a Jupyter notebook environment."
      ],
      "metadata": {
        "id": "CSIOHB5b7aao"
      }
    },
    {
      "cell_type": "code",
      "source": [
        "from IPython.display import Javascript\n",
        "\n",
        "def show_popup():\n",
        "    js_code = 'alert(\"Welcome! Please check your recommended doctors.\");'\n",
        "    display(Javascript(js_code))\n",
        "\n",
        "# Call the function to show a browser pop-up\n",
        "show_popup()"
      ],
      "metadata": {
        "colab": {
          "base_uri": "https://localhost:8080/",
          "height": 17
        },
        "id": "xULiCvdH5Gis",
        "outputId": "c307a415-6cf3-4042-ec37-ae24ce4e08de"
      },
      "execution_count": 23,
      "outputs": [
        {
          "output_type": "display_data",
          "data": {
            "text/plain": [
              "<IPython.core.display.Javascript object>"
            ],
            "application/javascript": [
              "alert(\"Welcome! Please check your recommended doctors.\");"
            ]
          },
          "metadata": {}
        }
      ]
    },
    {
      "cell_type": "markdown",
      "source": [
        "## **Step 11: Collect User Feedback**\n",
        "- The system asks the user to rate their satisfaction with the recommendations on a scale from 1 to 5.\n",
        "\n",
        "- The feedback is saved to a text file (user_feedback.txt) for future analysis or improvement."
      ],
      "metadata": {
        "id": "OSm056aT7emp"
      }
    },
    {
      "cell_type": "code",
      "source": [
        "# Collecting feedback\n",
        "feedback = input(\"How satisfied are you with the recommendations? (Rate 1-5): \")\n",
        "\n",
        "# Save feedback to a file\n",
        "with open(\"user_feedback.txt\", \"a\") as f:\n",
        "    f.write(f\"User rating: {feedback}\\n\")\n",
        "\n",
        "print(\"Thank you for your feedback!\")"
      ],
      "metadata": {
        "colab": {
          "base_uri": "https://localhost:8080/"
        },
        "id": "oHGTXZPo4VF0",
        "outputId": "c4465c52-7f11-4d59-8d75-ad83374c5f79"
      },
      "execution_count": 24,
      "outputs": [
        {
          "output_type": "stream",
          "name": "stdout",
          "text": [
            "How satisfied are you with the recommendations? (Rate 1-5): 4\n",
            "Thank you for your feedback!\n"
          ]
        }
      ]
    }
  ]
}